{
 "cells": [
  {
   "cell_type": "code",
   "execution_count": 4,
   "metadata": {},
   "outputs": [
    {
     "ename": "ModuleNotFoundError",
     "evalue": "No module named 'nnlib'",
     "output_type": "error",
     "traceback": [
      "\u001b[1;31m---------------------------------------------------------------------------\u001b[0m",
      "\u001b[1;31mModuleNotFoundError\u001b[0m                       Traceback (most recent call last)",
      "\u001b[1;32mc:\\Users\\vitor\\OneDrive - PUCRS - BR\\PUCRS\\aprendizado_profundo\\neuralNetworkImplementation\\nnlib_NeuralNetworkImplementation\\Tests\\lib_test.ipynb Cell 1\u001b[0m line \u001b[0;36m1\n\u001b[1;32m----> <a href='vscode-notebook-cell:/c%3A/Users/vitor/OneDrive%20-%20PUCRS%20-%20BR/PUCRS/aprendizado_profundo/neuralNetworkImplementation/nnlib_NeuralNetworkImplementation/Tests/lib_test.ipynb#W0sZmlsZQ%3D%3D?line=0'>1</a>\u001b[0m \u001b[39mfrom\u001b[39;00m \u001b[39mnnlib\u001b[39;00m \u001b[39mimport\u001b[39;00m Activations \u001b[39mas\u001b[39;00m activations\n",
      "\u001b[1;31mModuleNotFoundError\u001b[0m: No module named 'nnlib'"
     ]
    }
   ],
   "source": [
    "from nnlib import Activations as activations"
   ]
  },
  {
   "cell_type": "code",
   "execution_count": 3,
   "metadata": {},
   "outputs": [
    {
     "ename": "NameError",
     "evalue": "name 'activations' is not defined",
     "output_type": "error",
     "traceback": [
      "\u001b[1;31m---------------------------------------------------------------------------\u001b[0m",
      "\u001b[1;31mNameError\u001b[0m                                 Traceback (most recent call last)",
      "\u001b[1;32mc:\\Users\\vitor\\OneDrive - PUCRS - BR\\PUCRS\\aprendizado_profundo\\neuralNetworkImplementation\\nnlib_NeuralNetworkImplementation\\Tests\\lib_test.ipynb Cell 2\u001b[0m line \u001b[0;36m1\n\u001b[1;32m----> <a href='vscode-notebook-cell:/c%3A/Users/vitor/OneDrive%20-%20PUCRS%20-%20BR/PUCRS/aprendizado_profundo/neuralNetworkImplementation/nnlib_NeuralNetworkImplementation/Tests/lib_test.ipynb#W2sZmlsZQ%3D%3D?line=0'>1</a>\u001b[0m activations\u001b[39m.\u001b[39msigmoid(\u001b[39m0.5\u001b[39m)\n",
      "\u001b[1;31mNameError\u001b[0m: name 'activations' is not defined"
     ]
    }
   ],
   "source": [
    "activations.sigmoid(0.5)"
   ]
  }
 ],
 "metadata": {
  "kernelspec": {
   "display_name": "base",
   "language": "python",
   "name": "python3"
  },
  "language_info": {
   "codemirror_mode": {
    "name": "ipython",
    "version": 3
   },
   "file_extension": ".py",
   "mimetype": "text/x-python",
   "name": "python",
   "nbconvert_exporter": "python",
   "pygments_lexer": "ipython3",
   "version": "3.9.16"
  },
  "orig_nbformat": 4
 },
 "nbformat": 4,
 "nbformat_minor": 2
}
