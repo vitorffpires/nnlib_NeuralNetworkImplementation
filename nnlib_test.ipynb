{
 "cells": [
  {
   "cell_type": "code",
   "execution_count": 1,
   "metadata": {},
   "outputs": [],
   "source": [
    "import numpy as np\n",
    "from nnlib.activation_functions.relu import ReLu\n",
    "from nnlib.activation_functions.leaky_relu import LeakyReLu\n",
    "from nnlib.activation_functions.linear import Linear\n",
    "from nnlib.activation_functions.sigmoid import Sigmoid\n",
    "from nnlib.activation_functions.tanh import Tanh"
   ]
  },
  {
   "cell_type": "code",
   "execution_count": 2,
   "metadata": {},
   "outputs": [
    {
     "name": "stdout",
     "output_type": "stream",
     "text": [
      "(1, 5)\n",
      "Input value: [[-1.  -0.5  0.   0.5  1. ]]\n",
      "Forward result: [[0.  0.  0.  0.5 1. ]]\n",
      "Backward result: [[0 0 0 1 1]]\n"
     ]
    }
   ],
   "source": [
    "'''\n",
    "Test ReLu activation function\n",
    "\n",
    "This code snippet demonstrates the usage of the ReLu (Rectified Linear Unit) activation function. \n",
    "The ReLu activation is a widely used activation function in neural networks and is defined as \n",
    "f(x) = max(0, x), where x is the input.\n",
    "\n",
    "Usage:\n",
    "- Create a ReLu activation function object using the `relu.ReLu()` constructor.\n",
    "- Activate a sample input value (e.g., 0.5) using the `activate()` method and print the result.\n",
    "\n",
    "Example:\n",
    "    activation = relu.ReLu()  # Create a ReLu activation function\n",
    "    result = activation.activate(0.5)  # Activate the input value 0.5\n",
    "    print(result)  # Print the result of the ReLu activation\n",
    "\n",
    "This code snippet serves as a basic test of the ReLu activation function by applying it to a \n",
    "single input value and displaying the output.\n",
    "'''\n",
    "activation = ReLu()\n",
    "input_value = np.array([[-1.0,-0.5,0,0.5,1.0]])\n",
    "print(input_value.shape)\n",
    "forward_result = activation.activate(input_value)\n",
    "backward_result = activation.derivate(input_value)\n",
    "print(\"Input value: {}\".format(input_value))\n",
    "print(\"Forward result: {}\".format(forward_result))\n",
    "print(\"Backward result: {}\".format(backward_result))"
   ]
  },
  {
   "cell_type": "code",
   "execution_count": 3,
   "metadata": {},
   "outputs": [
    {
     "name": "stdout",
     "output_type": "stream",
     "text": [
      "Input value: [[-1.  -0.5  0.   0.5  1. ]]\n",
      "Forward result: [[-0.01  -0.005  0.     0.5    1.   ]]\n",
      "Backward result: [[0.01 0.01 0.01 1.   1.  ]]\n"
     ]
    }
   ],
   "source": [
    "'''\n",
    "Test Leaky ReLu activation function\n",
    "\n",
    "This code snippet demonstrates the usage of the Leaky ReLu (Rectified Linear Unit) activation function. \n",
    "The Leaky ReLu activation is a variant of ReLu that allows a small, non-zero gradient for negative inputs, \n",
    "preventing neurons from dying during training. It is defined as:\n",
    "f(x) = x if x > 0\n",
    "f(x) = alpha * x if x <= 0\n",
    "where alpha is a small positive constant.\n",
    "\n",
    "Usage:\n",
    "- Create a Leaky ReLu activation function object using the `leaky_relu.LeakyReLu()` constructor.\n",
    "- Activate a sample input value (e.g., 0.5) using the `activate()` method and print the result.\n",
    "\n",
    "Example:\n",
    "    activation = leaky_relu.LeakyReLu()  # Create a Leaky ReLu activation function\n",
    "    input_value = 0.5\n",
    "    forward_result = activation.activate(input_value)  # Activate the input value 0.5\n",
    "    print(\"Input value: {}\".format(input_value))\n",
    "    print(\"Forward result: {}\".format(forward_result))\n",
    "\n",
    "This code snippet serves as a basic test of the Leaky ReLu activation function by applying it to a \n",
    "single input value and displaying the output, both in the forward and backward passes.\n",
    "'''\n",
    "activation = LeakyReLu(0.01)\n",
    "input_value = np.array([[-1.0,-0.5,0,0.5,1.0]])\n",
    "forward_result = activation.activate(input_value)\n",
    "backward_result = activation.derivate(input_value)\n",
    "print(\"Input value: {}\".format(input_value))\n",
    "print(\"Forward result: {}\".format(forward_result))\n",
    "print(\"Backward result: {}\".format(backward_result))\n"
   ]
  },
  {
   "cell_type": "code",
   "execution_count": 4,
   "metadata": {},
   "outputs": [
    {
     "name": "stdout",
     "output_type": "stream",
     "text": [
      "Input value: [[-1.  -0.5  0.   0.5  1. ]]\n",
      "Forward result: [[-1.  -0.5  0.   0.5  1. ]]\n",
      "Backward result: [[1. 1. 1. 1. 1.]]\n"
     ]
    }
   ],
   "source": [
    "'''\n",
    "Test Linear activation function\n",
    "\n",
    "This code snippet demonstrates the usage of the Linear activation function. The Linear activation function\n",
    "simply returns the input value without introducing non-linearity. It is defined as f(x) = x, where x is the input.\n",
    "\n",
    "Usage:\n",
    "- Create a Linear activation function object using the `linear.Linear()` constructor.\n",
    "- Activate a sample input value (e.g., 0.5) using the `activate()` method and print the result.\n",
    "\n",
    "Example:\n",
    "    activation = linear.Linear()  # Create a Linear activation function\n",
    "    input_value = 0.5\n",
    "    forward_result = activation.activate(input_value)  # Activate the input value 0.5\n",
    "    print(\"Input value: {}\".format(input_value))\n",
    "    print(\"Forward result: {}\".format(forward_result))\n",
    "\n",
    "This code snippet serves as a basic test of the Linear activation function by applying it to a \n",
    "single input value and displaying the output, both in the forward and backward passes.\n",
    "'''\n",
    "activation = Linear()\n",
    "input_value = np.array([[-1.0,-0.5,0,0.5,1.0]])\n",
    "forward_result = activation.activate(input_value)\n",
    "backward_result = activation.derivate(input_value)\n",
    "print(\"Input value: {}\".format(input_value))\n",
    "print(\"Forward result: {}\".format(forward_result))\n",
    "print(\"Backward result: {}\".format(backward_result))\n"
   ]
  },
  {
   "cell_type": "code",
   "execution_count": 5,
   "metadata": {},
   "outputs": [
    {
     "name": "stdout",
     "output_type": "stream",
     "text": [
      "Input value: [[-1.  -0.5  0.   0.5  1. ]]\n",
      "Forward result: [[0.26894142 0.37754067 0.5        0.62245933 0.73105858]]\n",
      "Backward result: [[0.19661193 0.23500371 0.25       0.23500371 0.19661193]]\n"
     ]
    }
   ],
   "source": [
    "'''\n",
    "Test Sigmoid activation function\n",
    "\n",
    "This code snippet demonstrates the usage of the Sigmoid activation function. \n",
    "The Sigmoid activation function maps input values to the range (0, 1) and is commonly used in \n",
    "neural networks for introducing non-linearity.\n",
    "\n",
    "Usage:\n",
    "- Create a Sigmoid activation function object using the `sigmoid.Sigmoid()` constructor.\n",
    "- Activate a sample input value (e.g., 0.5) using the `activate()` method and print the result.\n",
    "\n",
    "Example:\n",
    "    activation = sigmoid.Sigmoid()  # Create a Sigmoid activation function\n",
    "    input_value = 0.5\n",
    "    forward_result = activation.activate(input_value)  # Activate the input value 0.5\n",
    "    print(\"Input value: {}\".format(input_value))\n",
    "    print(\"Forward result: {}\".format(forward_result))\n",
    "\n",
    "This code snippet serves as a basic test of the Sigmoid activation function by applying it to a \n",
    "single input value and displaying the output, both in the forward and backward passes.\n",
    "'''\n",
    "activation = Sigmoid()\n",
    "input_value = np.array([[-1.0,-0.5,0,0.5,1.0]])\n",
    "forward_result = activation.activate(input_value)\n",
    "backward_result = activation.derivate(input_value)\n",
    "print(\"Input value: {}\".format(input_value))\n",
    "print(\"Forward result: {}\".format(forward_result))\n",
    "print(\"Backward result: {}\".format(backward_result))\n"
   ]
  },
  {
   "cell_type": "code",
   "execution_count": 6,
   "metadata": {},
   "outputs": [
    {
     "name": "stdout",
     "output_type": "stream",
     "text": [
      "Input value: [[-1.  -0.5  0.   0.5  1. ]]\n",
      "Forward result: [[-0.76159416 -0.46211716  0.          0.46211716  0.76159416]]\n",
      "Backward result: [[0.41997434 0.78644773 1.         0.78644773 0.41997434]]\n"
     ]
    }
   ],
   "source": [
    "'''\n",
    "Test Tanh activation function\n",
    "\n",
    "This code snippet demonstrates the usage of the Hyperbolic Tangent (Tanh) activation function. \n",
    "The Tanh activation function maps input values to the range (-1, 1) and is commonly used in \n",
    "neural networks for introducing non-linearity.\n",
    "\n",
    "Usage:\n",
    "- Create a Tanh activation function object using the `tanh.Tanh()` constructor.\n",
    "- Activate a sample input value (e.g., 0.5) using the `activate()` method and print the result.\n",
    "\n",
    "Example:\n",
    "    activation = tanh.Tanh()  # Create a Tanh activation function\n",
    "    input_value = 0.5\n",
    "    forward_result = activation.activate(input_value)  # Activate the input value 0.5\n",
    "    print(\"Input value: {}\".format(input_value))\n",
    "    print(\"Forward result: {}\".format(forward_result))\n",
    "\n",
    "This code snippet serves as a basic test of the Tanh activation function by applying it to a \n",
    "single input value and displaying the output, both in the forward and backward passes.\n",
    "'''\n",
    "activation = Tanh()\n",
    "input_value = np.array([[-1.0,-0.5,0,0.5,1.0]])\n",
    "forward_result = activation.activate(input_value)\n",
    "backward_result = activation.derivate(input_value)\n",
    "print(\"Input value: {}\".format(input_value))\n",
    "print(\"Forward result: {}\".format(forward_result))\n",
    "print(\"Backward result: {}\".format(backward_result))\n"
   ]
  },
  {
   "cell_type": "code",
   "execution_count": 7,
   "metadata": {},
   "outputs": [
    {
     "name": "stdout",
     "output_type": "stream",
     "text": [
      "He weight init: [[ 0.01345593 -0.88327761 -0.81016248  0.08645761  0.129288    0.56872388\n",
      "   0.16117857 -0.98939962 -1.18272292 -0.41795608]\n",
      " [-0.16719724  0.34408959  0.09230329  0.21250646 -0.96544024  0.0749618\n",
      "  -0.00362485 -0.3434785  -0.37392178 -0.16828572]\n",
      " [ 1.02569901 -0.06964025 -0.89764782 -0.60222909 -0.38966127 -0.97046046\n",
      "  -0.32228966  0.1544628   0.18363493 -0.00580409]\n",
      " [ 0.59300204 -0.09387909  0.60820036  0.17086179  0.1688013   0.20639476\n",
      "  -0.19157881  0.18481131  0.67217745 -0.59332891]\n",
      " [ 0.37993828  0.25814054  0.10936558 -0.90200489 -0.75020967 -0.23100737\n",
      "  -0.2099851  -0.63631472  0.04131798 -0.03441037]\n",
      " [ 0.85469914 -0.29965933 -0.37188209  0.51402656  0.44354917  0.47184357\n",
      "  -0.10190668 -0.25635471 -0.51927167  0.17658089]\n",
      " [ 0.13781586 -0.1756828  -0.03684533  0.20497092 -0.10159633 -0.52434511\n",
      "   0.31297626  0.12812317 -0.01350189 -1.0645358 ]\n",
      " [-0.34442872 -0.23350049  0.14957832 -0.28955627  0.35637518  0.14866964\n",
      "  -0.28026458 -0.17431058 -0.16836684  0.50877045]\n",
      " [ 0.12381648 -0.29438842  0.67935013  0.19711355  0.8868131   0.34824677\n",
      "   0.64526954 -0.36723251  0.20833591 -0.28268196]\n",
      " [-0.94321298  0.58038501 -0.04136565  0.4296672   0.53334617  0.13583785\n",
      "  -0.56743279 -1.57996277 -0.08889283 -0.16989659]]\n",
      "Xavier weight init: [[ 0.05262256 -0.19745647 -0.15888458  0.32150167 -0.3615333  -0.00458144\n",
      "   0.36935334 -0.24833094 -0.29013301  0.43082096]\n",
      " [ 0.05199978  0.01625102  0.09093727  0.29713115  0.06884683 -0.21804075\n",
      "  -0.13358175  0.32019829 -0.21075889 -0.18444825]\n",
      " [-0.05303679 -0.42922516 -0.15627196 -0.01383117 -0.10251518  0.12223488\n",
      "   0.30315785 -0.23684885 -0.11561847  0.06417553]\n",
      " [-0.24654592 -0.19566371  0.02140322 -0.51293509  0.5128707   0.14104592\n",
      "   0.15606871 -0.23364491 -0.10384707  0.04562125]\n",
      " [-0.03062275  0.18612981 -0.36871051  0.13411283 -0.26592886  0.10558098\n",
      "   0.03868137 -0.24902786 -0.18770044 -0.0294585 ]\n",
      " [-0.34539868  0.29990717  0.03584428 -0.07540814  0.10723432 -0.3147558\n",
      "  -0.2249323   0.05181017 -0.00545158 -0.34047889]\n",
      " [ 0.27470572 -0.04654227 -0.15088251  0.02123608  0.25156423 -0.22377576\n",
      "   0.15502743 -0.49340366 -0.00493309 -0.21313365]\n",
      " [ 0.16121088  0.00582367 -0.41848667  0.10651752 -0.15613165  0.21324642\n",
      "   0.22601478  0.01845451 -0.01876467 -0.16877333]\n",
      " [ 0.10359205  0.37413328 -0.50163113 -0.26554204 -0.00148827  0.10115027\n",
      "  -0.50063333 -0.09507998  0.13541667  0.06644332]\n",
      " [-0.18091403 -0.02148439  0.42833262 -0.06676468  0.52110079  0.14918999\n",
      "  -0.07738324 -0.08251376  0.04283034  0.07246741]]\n",
      "Uniform weight init: [[-0.6676713  -0.8508293  -0.26647849  0.21322682  0.16754419  0.37977255\n",
      "  -0.0163672  -0.04373493  0.44404581  0.80223532]\n",
      " [ 0.03911351  0.30381203  0.63880699 -0.22174283  0.24888765 -0.65558171\n",
      "  -0.77639056  0.96998718 -0.19193998 -0.79522398]\n",
      " [ 0.56378466  0.41549925 -0.33489852 -0.62599541  0.82630961  0.86178745\n",
      "   0.11538377 -0.33188944  0.32475206  0.04595743]\n",
      " [ 0.2930018   0.84650033 -0.8993365   0.57412208  0.02604947  0.24699204\n",
      "  -0.28732319  0.96015595  0.8959821   0.3323351 ]\n",
      " [-0.56198784 -0.32550509  0.26204544  0.40627056 -0.85848658 -0.38398649\n",
      "  -0.25836759  0.0116429   0.90983263 -0.60700989]\n",
      " [ 0.78582708 -0.7929172  -0.4106882   0.30811548  0.00555565  0.23364086\n",
      "  -0.39097605  0.21221448  0.51848965 -0.09254519]\n",
      " [ 0.47265707  0.28627127 -0.06410477 -0.41700299 -0.03730815 -0.95531905\n",
      "  -0.66599416  0.43087999 -0.93132626 -0.43354169]\n",
      " [ 0.81165398  0.70510725  0.84704034 -0.52513275 -0.24164112  0.2198019\n",
      "  -0.25097779  0.04622542 -0.75543176 -0.08152483]\n",
      " [ 0.08878466 -0.80582557  0.50951236 -0.2423114  -0.73422802  0.1225313\n",
      "  -0.44819694 -0.92566952 -0.69479677 -0.23833488]\n",
      " [-0.94982591  0.01672731 -0.60178197  0.5377904   0.56602447 -0.34468649\n",
      "   0.52057317  0.20380731  0.1837493   0.10382752]]\n",
      "Normal weight init: [[-2.47278300e-03 -5.19148678e-01  8.02007380e-01 -9.69363544e-01\n",
      "  -9.94634722e-02 -1.13056332e+00  6.83049066e-01  7.04598270e-01\n",
      "   9.96963441e-01 -2.88498569e-01]\n",
      " [ 1.73837358e+00 -4.25621851e-01 -1.21699768e+00 -5.55027067e-01\n",
      "  -1.54742145e+00  8.33500494e-01 -1.15319050e+00  5.90238011e-01\n",
      "   5.04813515e-02  2.40649822e-01]\n",
      " [-3.49888367e-01 -3.89243961e-01  1.31911229e-01  4.77999333e-01\n",
      "   2.01779725e-01 -5.32335716e-01  1.58087089e+00 -1.39692170e+00\n",
      "   2.06394224e-02  6.70344249e-01]\n",
      " [-8.99951855e-01  2.23911733e-01  6.62096224e-01 -1.75986851e-01\n",
      "  -7.41365060e-01  5.51470186e-01  1.20864539e+00 -2.63951639e-01\n",
      "   1.05416596e+00 -9.07584558e-01]\n",
      " [-1.69515208e+00  1.62104443e+00  1.12541700e+00  1.84696384e-01\n",
      "  -6.58116936e-01  1.78415248e-01 -4.42039833e-01  1.32747734e+00\n",
      "   9.91652929e-01 -1.51416357e+00]\n",
      " [-1.40733688e+00  1.24817765e+00  6.47307865e-01  5.07333442e-01\n",
      "   7.30970815e-01  2.30267848e+00 -4.97295075e-01  5.87843713e-02\n",
      "  -4.38060746e-01  5.01084031e-01]\n",
      " [ 5.10289059e-01  9.32626300e-01 -9.91411987e-01 -9.26842923e-01\n",
      "  -5.42796059e-01 -1.42009726e-01 -6.38886754e-01 -1.41448545e+00\n",
      "  -6.33268793e-01  2.14483254e-01]\n",
      " [ 4.51305308e-01 -6.24269836e-01  3.58786176e-01 -9.53077541e-01\n",
      "  -1.15746639e-01  1.20866899e-01 -6.35102164e-01 -3.97729560e-01\n",
      "   9.65758614e-01 -4.18288665e-01]\n",
      " [ 1.83291902e-01  1.81806315e-01 -4.84481103e-01 -1.29568067e+00\n",
      "   7.07706347e-02 -4.44232898e-01  1.56706217e-01  4.75424473e-01\n",
      "   9.96713682e-01 -3.18798071e-01]\n",
      " [-4.98639087e-01 -7.66926793e-01 -6.23613317e-01  6.15767066e-01\n",
      "  -2.34075806e-02  5.59522098e-01 -3.61900073e-02  3.34059267e+00\n",
      "  -1.08807349e-01 -4.00946974e-01]]\n"
     ]
    }
   ],
   "source": [
    "from nnlib.initialization_functions.he import He\n",
    "from nnlib.initialization_functions.xavier import Xavier\n",
    "from nnlib.initialization_functions.uniform import Uniform\n",
    "from nnlib.initialization_functions.normal import Normal\n",
    "\n",
    "he_weight_init = He()\n",
    "xavier_weight_init = Xavier()\n",
    "uniform_weight_init = Uniform()\n",
    "normal_weight_init = Normal()\n",
    "\n",
    "print(\"He weight init: {}\".format(he_weight_init.initialize_weights(10, 10)))\n",
    "print(\"Xavier weight init: {}\".format(xavier_weight_init.initialize_weights(10, 10)))\n",
    "print(\"Uniform weight init: {}\".format(uniform_weight_init.initialize_weights(10, 10)))\n",
    "print(\"Normal weight init: {}\".format(normal_weight_init.initialize_weights(10, 10)))\n"
   ]
  },
  {
   "cell_type": "code",
   "execution_count": 8,
   "metadata": {},
   "outputs": [
    {
     "name": "stdout",
     "output_type": "stream",
     "text": [
      "MeanSquaredError loss: 0.0049999999999999975\n",
      "BinaryCrossEntropyLoss loss: -17.269388197455342\n"
     ]
    }
   ],
   "source": [
    "from nnlib.loss_functions.mse import MeanSquaredError\n",
    "from nnlib.loss_functions.bce import BinaryCrossEntropyLoss\n",
    "\n",
    "\n",
    "mse_loss = MeanSquaredError()\n",
    "bce_loss = BinaryCrossEntropyLoss()\n",
    "\n",
    "print(\"MeanSquaredError loss: {}\".format(mse_loss.compute(np.array([[0.5, 0.5]]), np.array([[0.4, 0.5]]))))\n",
    "print(\"BinaryCrossEntropyLoss loss: {}\".format(bce_loss.compute(np.array([[0, 1]]), np.array([[1, 1]]))))"
   ]
  },
  {
   "cell_type": "code",
   "execution_count": 9,
   "metadata": {},
   "outputs": [
    {
     "name": "stdout",
     "output_type": "stream",
     "text": [
      "[[-0.20586956  0.2075113  -0.77361023]\n",
      " [ 1.49411821 -0.60184131 -0.51647006]\n",
      " [-0.03120915  0.08068539 -0.09291595]]\n",
      "Forward pass output:\n",
      "[[0.6859069  0.4439676  0.32434967]\n",
      " [0.52080563 0.5114646  0.43028173]\n",
      " [0.62867195 0.46150694 0.38543411]]\n",
      "mse_loss: 0.09885370073534444\n",
      "\n",
      "Backward pass output (dLda_prev):\n",
      "[[ 0.25121266 -0.03261373  0.02950712]\n",
      " [-0.10221343  0.12946003 -0.02595752]\n",
      " [ 0.02744762 -0.17419558  0.00305103]]\n"
     ]
    }
   ],
   "source": [
    "from nnlib.layers.dense import Dense\n",
    "import numpy as np\n",
    "\n",
    "# Initialize a Dense layer\n",
    "input_dim = 3  # Number of input features\n",
    "n_units = 3    # Number of units in the Dense layer\n",
    "\n",
    "dense_layer = Dense(n_units=n_units, \n",
    "                    activation=Sigmoid(),\n",
    "                    input_dim=input_dim)\n",
    "\n",
    "# Initialize weights manually for testing\n",
    "weights = He().initialize_weights(n_units, input_dim)\n",
    "print(weights)\n",
    "\n",
    "dense_layer.set_weights(weights)\n",
    "\n",
    "# Perform a forward pass\n",
    "input_data = np.array([[0.5, 0.6, 0.4],\n",
    "                       [0.2, 0.1, 0.8],\n",
    "                       [0.3, 0.4, 0.3]])\n",
    "output_data = dense_layer.forward(input_data)\n",
    "\n",
    "print(\"Forward pass output:\")\n",
    "print(output_data)\n",
    "print(f'mse_loss: {mse_loss.compute(np.array([[1, 0.5, 1],[0.5, 1, 0.3],[0.9, 0.5, 0.4]]), output_data)}')\n",
    "\n",
    "# Perform a backward pass\n",
    "dLda = mse_loss.derivate(np.array([[1, 0.5, 1],[0.5, 1, 0.3],[0.9, 0.5, 0.4]]), output_data)\n",
    "dLda_prev = dense_layer.backward(dLda)\n",
    "\n",
    "print(\"\\nBackward pass output (dLda_prev):\")\n",
    "print(dLda_prev)\n"
   ]
  },
  {
   "cell_type": "code",
   "execution_count": 10,
   "metadata": {},
   "outputs": [
    {
     "name": "stdout",
     "output_type": "stream",
     "text": [
      "input Data:\n",
      "[[0.5 0.6 0.7]]\n",
      "Initial Weights:\n",
      "[[-0.67686781  0.94731727  1.35686986]\n",
      " [-1.12610187  0.60405673 -1.04424212]\n",
      " [-0.50536806 -0.47307785  0.89656273]]\n",
      "Forward pass output: \n",
      "[[0.202967   0.62361912 0.66362343]]\n",
      "\n",
      "Backward pass output (dLda_prev):\n",
      "[[ 0.02739304 -0.07901611  0.04295606]]\n",
      "\n",
      "Updated weights:\n",
      "[[-0.6769487   0.94743463  1.35664663]\n",
      " [-1.12619893  0.60419756 -1.04450999]\n",
      " [-0.5054813  -0.47291355  0.89625022]]\n"
     ]
    }
   ],
   "source": [
    "from nnlib.optimization_functions.sgd import StochastciGradientDescent\n",
    "\n",
    "# Initialize a Dense layer\n",
    "input_dim = 3  # Number of input features\n",
    "n_units = 3    # Number of units in the Dense layer\n",
    "\n",
    "dense_layer = Dense(n_units=n_units, \n",
    "                    activation=Sigmoid(),\n",
    "                    input_dim=input_dim)\n",
    "\n",
    "# Initialize weights manually for testing\n",
    "weights = He().initialize_weights(input_dim, n_units)\n",
    "\n",
    "dense_layer.set_weights(weights)\n",
    "\n",
    "# Perform a forward pass\n",
    "input_data = np.array([[0.5, 0.6, 0.7]])\n",
    "output_data = dense_layer.forward(input_data)\n",
    "\n",
    "print(\"input Data:\")    \n",
    "print(input_data)\n",
    "\n",
    "print(\"Initial Weights:\")\n",
    "print(weights)\n",
    "\n",
    "print(\"Forward pass output: \")\n",
    "print(output_data)\n",
    "\n",
    "# Assuming mse_loss is defined elsewhere\n",
    "# print(f'mse_loss: {mse_loss.compute(np.array([1, 0.5, 1]), output_data)}')\n",
    "\n",
    "# Perform a backward pass\n",
    "# Dummy derivative of the loss with respect to the activation\n",
    "dLda = np.array([[0.1, -0.1, 0.2]])  \n",
    "dLda_prev = dense_layer.backward(dLda)\n",
    "\n",
    "print(\"\\nBackward pass output (dLda_prev):\")\n",
    "print(dLda_prev)\n",
    "\n",
    "# Initialize SGD optimizer and update the Dense layer's parameters\n",
    "sgd_optimizer = StochastciGradientDescent(learning_rate=0.01)\n",
    "sgd_optimizer.update(dense_layer)\n",
    "\n",
    "# Check the updated weights\n",
    "updated_weights = dense_layer.get_weights()\n",
    "print(\"\\nUpdated weights:\")\n",
    "print(updated_weights)"
   ]
  },
  {
   "cell_type": "code",
   "execution_count": 1,
   "metadata": {},
   "outputs": [
    {
     "name": "stdout",
     "output_type": "stream",
     "text": [
      "Epoch 1/10 - loss: 1.0284 - val_loss: 0.9429\n",
      "Epoch 2/10 - loss: 0.9937 - val_loss: 0.9427\n",
      "Epoch 3/10 - loss: 0.9936 - val_loss: 0.9426\n",
      "Epoch 4/10 - loss: 0.9936 - val_loss: 0.9426\n",
      "Epoch 5/10 - loss: 0.9936 - val_loss: 0.9426\n",
      "Epoch 6/10 - loss: 0.9936 - val_loss: 0.9426\n",
      "Epoch 7/10 - loss: 0.9936 - val_loss: 0.9426\n",
      "Epoch 8/10 - loss: 0.9936 - val_loss: 0.9426\n",
      "Epoch 9/10 - loss: 0.9936 - val_loss: 0.9426\n",
      "Epoch 10/10 - loss: 0.9936 - val_loss: 0.9426\n"
     ]
    },
    {
     "data": {
      "text/plain": [
       "{'loss': 0.9425533844131041,\n",
       " 'weights': [array([[ 1.60142532, -0.17662886, -0.23904512, -0.44959275, -0.4704704 ,\n",
       "           0.77646564,  0.48070095,  0.19106634,  0.01770615,  0.11315386],\n",
       "         [-0.32031104, -0.0463328 ,  0.3717631 , -0.37506788,  0.1742003 ,\n",
       "          -0.84092496, -0.6881804 ,  0.17836591, -0.11564307,  0.41203315],\n",
       "         [-0.29574036,  0.8357234 ,  0.39884889,  0.29345071, -1.47290406,\n",
       "           0.39329674, -0.43155517, -0.07843767, -0.54654031, -0.16631599],\n",
       "         [ 0.21785285,  0.38581549, -1.41888284, -0.23708967, -0.78244309,\n",
       "          -0.91593118, -0.17082709,  0.48700982, -0.6614063 , -0.31844832],\n",
       "         [-0.11867144, -1.22479008, -0.45188497, -0.7611916 , -0.22019374,\n",
       "           0.72719003,  0.1416674 ,  1.04376531, -0.49192038,  0.31692021]]),\n",
       "  array([[-0.09034735, -0.2776032 ],\n",
       "         [-0.01053198, -0.20121245],\n",
       "         [-0.71492939, -0.49617572],\n",
       "         [-0.15204354,  0.17127786],\n",
       "         [-0.10094102, -0.22431543],\n",
       "         [-0.48974036, -0.78099728],\n",
       "         [-0.35670628, -0.18639606],\n",
       "         [-0.04147321, -0.13162215],\n",
       "         [ 0.31042384,  0.37932762],\n",
       "         [ 0.07116444,  0.26060003]])],\n",
       " 'epoch': 9}"
      ]
     },
     "execution_count": 1,
     "metadata": {},
     "output_type": "execute_result"
    }
   ],
   "source": [
    "import numpy as np\n",
    "import pickle\n",
    "\n",
    "# Dummy classes for testing\n",
    "from nnlib.layers.dense import Dense\n",
    "\n",
    "from nnlib.activation_functions.linear import Linear\n",
    "from nnlib.activation_functions.sigmoid import Sigmoid\n",
    "from nnlib.activation_functions.relu import ReLu\n",
    "\n",
    "from nnlib.optimization_functions.sgd import StochastciGradientDescent\n",
    "\n",
    "from nnlib.models.sequential import SequentialModel\n",
    "\n",
    "from nnlib.loss_functions.mse import MeanSquaredError\n",
    "\n",
    "from nnlib.initialization_functions.he import He\n",
    "\n",
    "# Your SequentialModel class here...\n",
    "\n",
    "# Testing\n",
    "np.random.seed(0)  # For reproducibility\n",
    "\n",
    "# Create dummy data\n",
    "X = np.random.randn(1000, 5)\n",
    "y = np.random.randn(1000, 2)\n",
    "X_val = np.random.randn(150, 5)\n",
    "y_val = np.random.randn(150, 2)\n",
    "\n",
    "optimizer = StochastciGradientDescent(learning_rate=0.005)\n",
    "loss = MeanSquaredError()\n",
    "initializer = He()\n",
    "\n",
    "# Initialize model and components\n",
    "model = SequentialModel()\n",
    "model.add(Dense(n_units = 10, \n",
    "                input_dim = 5,\n",
    "                activation = ReLu()               \n",
    "                ))\n",
    "model.add(Dense(n_units=2, \n",
    "                input_dim=10,\n",
    "                activation = ReLu()\n",
    "                ))\n",
    "\n",
    "\n",
    "# Compile and fit the model\n",
    "model.compile(optimizer, loss, initializer, X)\n",
    "model.fit(X, y, epochs=10, batch_size=20, X_val=X_val, y_val=y_val, verbose=True)\n",
    "\n",
    "model.best_params\n",
    "# Ensure to check the predictions, loss values, and best parameters during and after training.\n"
   ]
  },
  {
   "cell_type": "code",
   "execution_count": 12,
   "metadata": {},
   "outputs": [
    {
     "name": "stdout",
     "output_type": "stream",
     "text": [
      "<class 'nnlib.models.sequential.SequentialModel'>\n"
     ]
    }
   ],
   "source": [
    "print(type(model))"
   ]
  },
  {
   "cell_type": "code",
   "execution_count": 2,
   "metadata": {},
   "outputs": [],
   "source": [
    "model.export_net(r'models/test_net.joblib')"
   ]
  },
  {
   "cell_type": "code",
   "execution_count": 4,
   "metadata": {},
   "outputs": [],
   "source": [
    "loaded_model = SequentialModel.import_net(r'models/test_net.joblib')\n"
   ]
  },
  {
   "cell_type": "code",
   "execution_count": null,
   "metadata": {},
   "outputs": [],
   "source": [
    "loaded_model.predict(X)"
   ]
  }
 ],
 "metadata": {
  "kernelspec": {
   "display_name": "base",
   "language": "python",
   "name": "python3"
  },
  "language_info": {
   "codemirror_mode": {
    "name": "ipython",
    "version": 3
   },
   "file_extension": ".py",
   "mimetype": "text/x-python",
   "name": "python",
   "nbconvert_exporter": "python",
   "pygments_lexer": "ipython3",
   "version": "3.9.16"
  },
  "orig_nbformat": 4
 },
 "nbformat": 4,
 "nbformat_minor": 2
}
