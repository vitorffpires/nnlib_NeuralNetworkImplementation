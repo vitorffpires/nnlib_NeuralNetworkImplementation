{
 "cells": [
  {
   "cell_type": "code",
   "execution_count": 1,
   "metadata": {},
   "outputs": [],
   "source": [
    "import numpy as np\n",
    "from nnlib.activation_functions.relu import ReLu\n",
    "from nnlib.activation_functions.leaky_relu import LeakyReLu\n",
    "from nnlib.activation_functions.linear import Linear\n",
    "from nnlib.activation_functions.sigmoid import Sigmoid\n",
    "from nnlib.activation_functions.tanh import Tanh"
   ]
  },
  {
   "cell_type": "code",
   "execution_count": 2,
   "metadata": {},
   "outputs": [
    {
     "name": "stdout",
     "output_type": "stream",
     "text": [
      "(1, 5)\n",
      "Input value: [[-1.  -0.5  0.   0.5  1. ]]\n",
      "Forward result: [[0.  0.  0.  0.5 1. ]]\n",
      "Backward result: [[0 0 0 1 1]]\n"
     ]
    }
   ],
   "source": [
    "'''\n",
    "Test ReLu activation function\n",
    "\n",
    "This code snippet demonstrates the usage of the ReLu (Rectified Linear Unit) activation function. \n",
    "The ReLu activation is a widely used activation function in neural networks and is defined as \n",
    "f(x) = max(0, x), where x is the input.\n",
    "\n",
    "Usage:\n",
    "- Create a ReLu activation function object using the `relu.ReLu()` constructor.\n",
    "- Activate a sample input value (e.g., 0.5) using the `activate()` method and print the result.\n",
    "\n",
    "Example:\n",
    "    activation = relu.ReLu()  # Create a ReLu activation function\n",
    "    result = activation.activate(0.5)  # Activate the input value 0.5\n",
    "    print(result)  # Print the result of the ReLu activation\n",
    "\n",
    "This code snippet serves as a basic test of the ReLu activation function by applying it to a \n",
    "single input value and displaying the output.\n",
    "'''\n",
    "activation = ReLu()\n",
    "input_value = np.array([[-1.0,-0.5,0,0.5,1.0]])\n",
    "print(input_value.shape)\n",
    "forward_result = activation.activate(input_value)\n",
    "backward_result = activation.derivate(input_value)\n",
    "print(\"Input value: {}\".format(input_value))\n",
    "print(\"Forward result: {}\".format(forward_result))\n",
    "print(\"Backward result: {}\".format(backward_result))"
   ]
  },
  {
   "cell_type": "code",
   "execution_count": 3,
   "metadata": {},
   "outputs": [
    {
     "name": "stdout",
     "output_type": "stream",
     "text": [
      "Input value: [[-1.  -0.5  0.   0.5  1. ]]\n",
      "Forward result: [[-0.01  -0.005  0.     0.5    1.   ]]\n",
      "Backward result: [[0.01 0.01 0.01 1.   1.  ]]\n"
     ]
    }
   ],
   "source": [
    "'''\n",
    "Test Leaky ReLu activation function\n",
    "\n",
    "This code snippet demonstrates the usage of the Leaky ReLu (Rectified Linear Unit) activation function. \n",
    "The Leaky ReLu activation is a variant of ReLu that allows a small, non-zero gradient for negative inputs, \n",
    "preventing neurons from dying during training. It is defined as:\n",
    "f(x) = x if x > 0\n",
    "f(x) = alpha * x if x <= 0\n",
    "where alpha is a small positive constant.\n",
    "\n",
    "Usage:\n",
    "- Create a Leaky ReLu activation function object using the `leaky_relu.LeakyReLu()` constructor.\n",
    "- Activate a sample input value (e.g., 0.5) using the `activate()` method and print the result.\n",
    "\n",
    "Example:\n",
    "    activation = leaky_relu.LeakyReLu()  # Create a Leaky ReLu activation function\n",
    "    input_value = 0.5\n",
    "    forward_result = activation.activate(input_value)  # Activate the input value 0.5\n",
    "    print(\"Input value: {}\".format(input_value))\n",
    "    print(\"Forward result: {}\".format(forward_result))\n",
    "\n",
    "This code snippet serves as a basic test of the Leaky ReLu activation function by applying it to a \n",
    "single input value and displaying the output, both in the forward and backward passes.\n",
    "'''\n",
    "activation = LeakyReLu(0.01)\n",
    "input_value = np.array([[-1.0,-0.5,0,0.5,1.0]])\n",
    "forward_result = activation.activate(input_value)\n",
    "backward_result = activation.derivate(input_value)\n",
    "print(\"Input value: {}\".format(input_value))\n",
    "print(\"Forward result: {}\".format(forward_result))\n",
    "print(\"Backward result: {}\".format(backward_result))\n"
   ]
  },
  {
   "cell_type": "code",
   "execution_count": 4,
   "metadata": {},
   "outputs": [
    {
     "name": "stdout",
     "output_type": "stream",
     "text": [
      "Input value: [[-1.  -0.5  0.   0.5  1. ]]\n",
      "Forward result: [[-1.  -0.5  0.   0.5  1. ]]\n",
      "Backward result: [[1. 1. 1. 1. 1.]]\n"
     ]
    }
   ],
   "source": [
    "'''\n",
    "Test Linear activation function\n",
    "\n",
    "This code snippet demonstrates the usage of the Linear activation function. The Linear activation function\n",
    "simply returns the input value without introducing non-linearity. It is defined as f(x) = x, where x is the input.\n",
    "\n",
    "Usage:\n",
    "- Create a Linear activation function object using the `linear.Linear()` constructor.\n",
    "- Activate a sample input value (e.g., 0.5) using the `activate()` method and print the result.\n",
    "\n",
    "Example:\n",
    "    activation = linear.Linear()  # Create a Linear activation function\n",
    "    input_value = 0.5\n",
    "    forward_result = activation.activate(input_value)  # Activate the input value 0.5\n",
    "    print(\"Input value: {}\".format(input_value))\n",
    "    print(\"Forward result: {}\".format(forward_result))\n",
    "\n",
    "This code snippet serves as a basic test of the Linear activation function by applying it to a \n",
    "single input value and displaying the output, both in the forward and backward passes.\n",
    "'''\n",
    "activation = Linear()\n",
    "input_value = np.array([[-1.0,-0.5,0,0.5,1.0]])\n",
    "forward_result = activation.activate(input_value)\n",
    "backward_result = activation.derivate(input_value)\n",
    "print(\"Input value: {}\".format(input_value))\n",
    "print(\"Forward result: {}\".format(forward_result))\n",
    "print(\"Backward result: {}\".format(backward_result))\n"
   ]
  },
  {
   "cell_type": "code",
   "execution_count": 5,
   "metadata": {},
   "outputs": [
    {
     "name": "stdout",
     "output_type": "stream",
     "text": [
      "Input value: [[-1.  -0.5  0.   0.5  1. ]]\n",
      "Forward result: [[0.26894142 0.37754067 0.5        0.62245933 0.73105858]]\n",
      "Backward result: [[0.19661193 0.23500371 0.25       0.23500371 0.19661193]]\n"
     ]
    }
   ],
   "source": [
    "'''\n",
    "Test Sigmoid activation function\n",
    "\n",
    "This code snippet demonstrates the usage of the Sigmoid activation function. \n",
    "The Sigmoid activation function maps input values to the range (0, 1) and is commonly used in \n",
    "neural networks for introducing non-linearity.\n",
    "\n",
    "Usage:\n",
    "- Create a Sigmoid activation function object using the `sigmoid.Sigmoid()` constructor.\n",
    "- Activate a sample input value (e.g., 0.5) using the `activate()` method and print the result.\n",
    "\n",
    "Example:\n",
    "    activation = sigmoid.Sigmoid()  # Create a Sigmoid activation function\n",
    "    input_value = 0.5\n",
    "    forward_result = activation.activate(input_value)  # Activate the input value 0.5\n",
    "    print(\"Input value: {}\".format(input_value))\n",
    "    print(\"Forward result: {}\".format(forward_result))\n",
    "\n",
    "This code snippet serves as a basic test of the Sigmoid activation function by applying it to a \n",
    "single input value and displaying the output, both in the forward and backward passes.\n",
    "'''\n",
    "activation = Sigmoid()\n",
    "input_value = np.array([[-1.0,-0.5,0,0.5,1.0]])\n",
    "forward_result = activation.activate(input_value)\n",
    "backward_result = activation.derivate(input_value)\n",
    "print(\"Input value: {}\".format(input_value))\n",
    "print(\"Forward result: {}\".format(forward_result))\n",
    "print(\"Backward result: {}\".format(backward_result))\n"
   ]
  },
  {
   "cell_type": "code",
   "execution_count": 6,
   "metadata": {},
   "outputs": [
    {
     "name": "stdout",
     "output_type": "stream",
     "text": [
      "Input value: [[-1.  -0.5  0.   0.5  1. ]]\n",
      "Forward result: [[-0.76159416 -0.46211716  0.          0.46211716  0.76159416]]\n",
      "Backward result: [[0.41997434 0.78644773 1.         0.78644773 0.41997434]]\n"
     ]
    }
   ],
   "source": [
    "'''\n",
    "Test Tanh activation function\n",
    "\n",
    "This code snippet demonstrates the usage of the Hyperbolic Tangent (Tanh) activation function. \n",
    "The Tanh activation function maps input values to the range (-1, 1) and is commonly used in \n",
    "neural networks for introducing non-linearity.\n",
    "\n",
    "Usage:\n",
    "- Create a Tanh activation function object using the `tanh.Tanh()` constructor.\n",
    "- Activate a sample input value (e.g., 0.5) using the `activate()` method and print the result.\n",
    "\n",
    "Example:\n",
    "    activation = tanh.Tanh()  # Create a Tanh activation function\n",
    "    input_value = 0.5\n",
    "    forward_result = activation.activate(input_value)  # Activate the input value 0.5\n",
    "    print(\"Input value: {}\".format(input_value))\n",
    "    print(\"Forward result: {}\".format(forward_result))\n",
    "\n",
    "This code snippet serves as a basic test of the Tanh activation function by applying it to a \n",
    "single input value and displaying the output, both in the forward and backward passes.\n",
    "'''\n",
    "activation = Tanh()\n",
    "input_value = np.array([[-1.0,-0.5,0,0.5,1.0]])\n",
    "forward_result = activation.activate(input_value)\n",
    "backward_result = activation.derivate(input_value)\n",
    "print(\"Input value: {}\".format(input_value))\n",
    "print(\"Forward result: {}\".format(forward_result))\n",
    "print(\"Backward result: {}\".format(backward_result))\n"
   ]
  },
  {
   "cell_type": "code",
   "execution_count": 7,
   "metadata": {},
   "outputs": [
    {
     "name": "stdout",
     "output_type": "stream",
     "text": [
      "He weight init: [[ 0.15889311 -0.49443661  0.15265861  0.30069814  0.17637876 -0.09233938\n",
      "  -0.20798596  0.12591655  0.80702756 -0.05303918]\n",
      " [-0.58839995  0.02902596 -0.14561905 -1.53022442 -0.58764636  0.13212612\n",
      "   0.01262597  0.29688702 -1.1498983   1.35038603]\n",
      " [-1.23950659 -0.26347598 -0.76953635  0.36740359 -0.51143501 -0.19351499\n",
      "   0.16335407  0.29221022 -0.50601413 -0.75590706]\n",
      " [-0.28695992  0.79741527 -0.3385067  -1.20163513 -0.09065684  0.98198862\n",
      "  -0.21538191 -0.78356009  0.30561052  0.41421073]\n",
      " [-0.31658508 -0.08419273 -0.57559751  0.03755769  0.16286794 -0.38555199\n",
      "   0.32721378 -0.19700727  0.5876547  -0.01511083]\n",
      " [ 0.29683555  0.19551098  0.07503683 -0.40840177 -0.25952344 -0.58911943\n",
      "   0.50026485 -0.51727923 -0.10710858  0.68403448]\n",
      " [ 0.46327755 -0.52127257 -0.56360424  0.3265028  -0.54972782 -0.34740053\n",
      "   0.52543602 -0.194379   -0.32226788 -0.11547975]\n",
      " [-0.59275946 -0.39834826  0.09861271  0.03910191 -0.10239785  0.29191013\n",
      "   0.39858831 -0.55310627  0.50196238  0.55338352]\n",
      " [ 0.57858227  0.36441095 -0.03141799  0.07475159 -0.47889336 -0.55676374\n",
      "   0.26497589 -0.31372623  0.08496737 -0.40333433]\n",
      " [-0.07109018 -0.61803597 -0.27538736 -0.17932465 -0.17701574 -0.74490983\n",
      "  -0.40087862  0.40480213 -0.26642532  0.85391764]]\n",
      "Xavier weight init: [[-0.2373372   0.37351407  0.16873039  0.17648823 -0.20675115  0.17057878\n",
      "  -0.17248029  0.03324191  0.17394358 -0.41303657]\n",
      " [-0.44504399 -0.13342582  0.17635728  0.05174558 -0.17365968 -0.05103533\n",
      "  -0.39241116  0.22130556 -0.18825091 -0.1664554 ]\n",
      " [ 0.33074937  0.37792648 -0.1506883  -0.05478257  0.1575385   0.09505083\n",
      "  -0.05817379  0.07801088 -0.03121742 -0.16298324]\n",
      " [ 0.01467293 -0.36469347 -0.00831977 -0.36727719  0.1455097  -0.08524348\n",
      "  -0.52866946  0.1769393   0.01198304 -0.02790621]\n",
      " [ 0.13190714  0.07659181  0.21884568  0.38426311 -0.36754972  0.49825362\n",
      "  -0.27597315  0.51435718  0.12577981  0.58423978]\n",
      " [-0.14833428 -0.12998254 -0.3561492   0.24125883  0.18565092  0.23982406\n",
      "   0.27993851 -0.23489363  0.35708178 -0.12224083]\n",
      " [-0.17407177 -0.1037555  -0.22968398 -0.05322339 -0.44184867  0.07135002\n",
      "   0.03298035 -0.13544351  0.29721484 -0.04507843]\n",
      " [-0.34559334  0.22318582  0.35284085 -0.24496264  0.39166674  0.17038811\n",
      "   0.10645124  0.26771093  0.02038703  0.33004691]\n",
      " [ 0.12090733  0.2559839  -0.1776387  -0.0996735   0.13161083  0.16518187\n",
      "   0.28082732  0.10531079  0.16909135 -0.24721205]\n",
      " [ 0.20825676  0.29376374  0.10376522 -0.12239275 -0.26504065 -0.00400464\n",
      "  -0.2608109  -0.23262264  0.28857508 -0.25305827]]\n",
      "Uniform weight init: [[-0.19294951 -0.37380705  0.64491432  0.66575488 -0.89454717  0.16133158\n",
      "   0.51910302  0.42374544  0.14482162  0.1458513 ]\n",
      " [-0.90607176 -0.14800795  0.01957441  0.54887175 -0.63790766  0.34919085\n",
      "   0.83222879 -0.29598688 -0.45027194  0.19805182]\n",
      " [-0.09634857  0.09781633 -0.21433656 -0.06540291  0.35314487  0.32491909\n",
      "  -0.1656139  -0.02544529 -0.40358471 -0.79341392]\n",
      " [ 0.90444862 -0.5986465   0.82384451  0.45973306 -0.94189531  0.63689505\n",
      "   0.44659102  0.03521155  0.85315859  0.38689619]\n",
      " [-0.39384053  0.2588572   0.10852385 -0.47073056 -0.27109459 -0.11393062\n",
      "   0.83117679  0.88067401  0.30167935 -0.40947092]\n",
      " [ 0.42239275  0.21989155  0.91276592  0.07312058  0.98750896  0.23666482\n",
      "   0.40581286 -0.38175833  0.63960999  0.88160368]\n",
      " [-0.73865163  0.84751228 -0.98514116 -0.03467632 -0.94202093  0.60441079\n",
      "  -0.67601802 -0.33475811  0.22900877  0.72021323]\n",
      " [ 0.77733123  0.79435371  0.64092104 -0.9348206  -0.00179957 -0.88108915\n",
      "  -0.77208219  0.44331611 -0.95274773 -0.34633496]\n",
      " [-0.7891601   0.56719169 -0.6555084   0.71351378  0.71962643  0.76600576\n",
      "   0.0256031  -0.36333016  0.59742945  0.27232812]\n",
      " [ 0.36245086 -0.15304983 -0.41900807  0.47854761  0.85262198 -0.67326641\n",
      "  -0.11130251  0.37702022 -0.43059648  0.81400757]]\n",
      "Normal weight init: [[-0.39100423  1.42692845 -0.11862546 -2.67951706 -0.61653305  1.9008962\n",
      "   0.34262078  0.68859932  0.43514445 -0.34776981]\n",
      " [ 0.78731918 -0.88034624 -1.81731675 -0.54215654 -0.61925427  0.22067059\n",
      "  -0.01726296  0.70881113 -1.20189587  0.14473452]\n",
      " [-0.72651128  0.88188349 -0.38091544  0.84802941  1.10825699  0.65199349\n",
      "  -0.71404726  0.49727214  0.05668647 -0.52965418]\n",
      " [ 0.48344261  1.04210386 -1.09712091  0.75725938 -0.42016768  0.51627895\n",
      "   0.05254413  1.31627398  0.95632531 -1.3584997 ]\n",
      " [-1.44607381 -1.50442736  0.63295402  0.59464385 -0.33227664 -0.84697126\n",
      "  -0.07309209 -2.06248638  0.81867333  0.56332342]\n",
      " [-2.84562094  0.47468167  1.11744858  1.39040523 -2.13993544  1.42298111\n",
      "   0.50382424  0.88543116  1.9101218  -1.93201551]\n",
      " [-0.02221087 -0.25151565 -0.64185354  0.44951435  2.49653699 -0.61058097\n",
      "   0.00770223  1.03222709 -0.4056133   0.45279552]\n",
      " [ 1.14402614 -0.52135508 -2.10586824  0.52620842  0.61243786 -1.65823486\n",
      "  -0.86907482  0.14228026 -1.99521626  1.14730657]\n",
      " [-2.78526822  1.39743976  0.84247304 -0.05696061  0.97553648 -1.52235196\n",
      "  -2.05950702 -1.43355275  0.5841158  -0.01836484]\n",
      " [-0.45924299 -0.45056808 -0.08126605 -1.46876627 -0.94821132 -1.69785955\n",
      "  -0.23263407  0.55016665 -0.16144328  1.84623411]]\n"
     ]
    }
   ],
   "source": [
    "from nnlib.initialization_functions.he import He\n",
    "from nnlib.initialization_functions.xavier import Xavier\n",
    "from nnlib.initialization_functions.uniform import Uniform\n",
    "from nnlib.initialization_functions.normal import Normal\n",
    "\n",
    "he_weight_init = He()\n",
    "xavier_weight_init = Xavier()\n",
    "uniform_weight_init = Uniform()\n",
    "normal_weight_init = Normal()\n",
    "\n",
    "print(\"He weight init: {}\".format(he_weight_init.initialize_weights(10, 10)))\n",
    "print(\"Xavier weight init: {}\".format(xavier_weight_init.initialize_weights(10, 10)))\n",
    "print(\"Uniform weight init: {}\".format(uniform_weight_init.initialize_weights(10, 10)))\n",
    "print(\"Normal weight init: {}\".format(normal_weight_init.initialize_weights(10, 10)))\n"
   ]
  },
  {
   "cell_type": "code",
   "execution_count": 8,
   "metadata": {},
   "outputs": [
    {
     "name": "stdout",
     "output_type": "stream",
     "text": [
      "MeanSquaredError loss: 0.0049999999999999975\n",
      "BinaryCrossEntropyLoss loss: 17.269388197455342\n"
     ]
    }
   ],
   "source": [
    "from nnlib.loss_functions.mse import MeanSquaredError\n",
    "from nnlib.loss_functions.bce import BinaryCrossEntropyLoss\n",
    "\n",
    "\n",
    "mse_loss = MeanSquaredError()\n",
    "bce_loss = BinaryCrossEntropyLoss()\n",
    "\n",
    "print(\"MeanSquaredError loss: {}\".format(mse_loss.compute(np.array([[0.5, 0.5]]), np.array([[0.4, 0.5]]))))\n",
    "print(\"BinaryCrossEntropyLoss loss: {}\".format(bce_loss.compute(np.array([[0, 1]]), np.array([[1, 1]]))))"
   ]
  },
  {
   "cell_type": "code",
   "execution_count": 9,
   "metadata": {},
   "outputs": [
    {
     "name": "stdout",
     "output_type": "stream",
     "text": [
      "[[ 0.95396795  0.58125165  0.6315741 ]\n",
      " [ 1.51805409 -1.33877596  1.4500718 ]\n",
      " [ 0.16686184 -0.68434753 -0.89562881]]\n",
      "Forward pass output:\n",
      "[[0.81069941 0.31294675 0.6958427 ]\n",
      " [0.6168238  0.36236702 0.39050712]\n",
      " [0.71980016 0.36205888 0.62265021]]\n",
      "mse_loss: 0.07698036723495644\n",
      "\n",
      "Backward pass output (dLda_prev):\n",
      "[[-0.18349531 -0.16720794  0.16066147]\n",
      " [-0.09137975  0.5407886   0.17227725]\n",
      " [-0.04030094  0.12667946 -0.06222792]]\n"
     ]
    }
   ],
   "source": [
    "from nnlib.layers.dense import Dense\n",
    "import numpy as np\n",
    "\n",
    "# Initialize a Dense layer\n",
    "input_dim = 3  # Number of input features\n",
    "n_units = 3    # Number of units in the Dense layer\n",
    "\n",
    "dense_layer = Dense(n_units=n_units, \n",
    "                    activation=Sigmoid(),\n",
    "                    input_dim=input_dim)\n",
    "\n",
    "# Initialize weights manually for testing\n",
    "weights = He().initialize_weights(n_units, input_dim)\n",
    "print(weights)\n",
    "\n",
    "dense_layer.set_weights(weights)\n",
    "\n",
    "# Perform a forward pass\n",
    "input_data = np.array([[0.5, 0.6, 0.4],\n",
    "                       [0.2, 0.1, 0.8],\n",
    "                       [0.3, 0.4, 0.3]])\n",
    "output_data = dense_layer.forward(input_data)\n",
    "\n",
    "print(\"Forward pass output:\")\n",
    "print(output_data)\n",
    "print(f'mse_loss: {mse_loss.compute(np.array([[1, 0.5, 1],[0.5, 1, 0.3],[0.9, 0.5, 0.4]]), output_data)}')\n",
    "\n",
    "# Perform a backward pass\n",
    "dLda = mse_loss.derivate(np.array([[1, 0.5, 1],[0.5, 1, 0.3],[0.9, 0.5, 0.4]]), output_data)\n",
    "dLda_prev = dense_layer.backward(dLda)\n",
    "\n",
    "print(\"\\nBackward pass output (dLda_prev):\")\n",
    "print(dLda_prev)\n"
   ]
  },
  {
   "cell_type": "code",
   "execution_count": 10,
   "metadata": {},
   "outputs": [
    {
     "name": "stdout",
     "output_type": "stream",
     "text": [
      "input Data:\n",
      "[[0.5 0.6 0.7]]\n",
      "Initial Weights:\n",
      "[[ 0.94415059  0.11345511  0.44263933]\n",
      " [-1.03899805 -0.94478743 -0.20934592]\n",
      " [-0.65429744 -0.66192358 -0.29754551]]\n",
      "Forward pass output: \n",
      "[[0.35221165 0.27418514 0.47188724]]\n",
      "\n",
      "Backward pass output (dLda_prev):\n",
      "[[ 0.04134577 -0.01533785 -0.01658582]]\n",
      "\n",
      "Updated weights:\n",
      "[[ 0.94403651  0.11355462  0.44239012]\n",
      " [-1.03913495 -0.94466803 -0.20964497]\n",
      " [-0.65445715 -0.66178428 -0.29789441]]\n"
     ]
    }
   ],
   "source": [
    "from nnlib.optimization_functions.sgd import StochastciGradientDescent\n",
    "\n",
    "# Initialize a Dense layer\n",
    "input_dim = 3  # Number of input features\n",
    "n_units = 3    # Number of units in the Dense layer\n",
    "\n",
    "dense_layer = Dense(n_units=n_units, \n",
    "                    activation=Sigmoid(),\n",
    "                    input_dim=input_dim)\n",
    "\n",
    "# Initialize weights manually for testing\n",
    "weights = He().initialize_weights(input_dim, n_units)\n",
    "\n",
    "dense_layer.set_weights(weights)\n",
    "\n",
    "# Perform a forward pass\n",
    "input_data = np.array([[0.5, 0.6, 0.7]])\n",
    "output_data = dense_layer.forward(input_data)\n",
    "\n",
    "print(\"input Data:\")    \n",
    "print(input_data)\n",
    "\n",
    "print(\"Initial Weights:\")\n",
    "print(weights)\n",
    "\n",
    "print(\"Forward pass output: \")\n",
    "print(output_data)\n",
    "\n",
    "# Assuming mse_loss is defined elsewhere\n",
    "# print(f'mse_loss: {mse_loss.compute(np.array([1, 0.5, 1]), output_data)}')\n",
    "\n",
    "# Perform a backward pass\n",
    "# Dummy derivative of the loss with respect to the activation\n",
    "dLda = np.array([[0.1, -0.1, 0.2]])  \n",
    "dLda_prev = dense_layer.backward(dLda)\n",
    "\n",
    "print(\"\\nBackward pass output (dLda_prev):\")\n",
    "print(dLda_prev)\n",
    "\n",
    "# Initialize SGD optimizer and update the Dense layer's parameters\n",
    "sgd_optimizer = StochastciGradientDescent(learning_rate=0.01)\n",
    "sgd_optimizer.update(dense_layer)\n",
    "\n",
    "# Check the updated weights\n",
    "updated_weights = dense_layer.get_weights()\n",
    "print(\"\\nUpdated weights:\")\n",
    "print(updated_weights)"
   ]
  },
  {
   "cell_type": "code",
   "execution_count": 18,
   "metadata": {},
   "outputs": [
    {
     "name": "stdout",
     "output_type": "stream",
     "text": [
      "Epoch 1/10 - loss: 1.0064 - val_loss: 0.9414\n",
      "Epoch 2/10 - loss: 0.9933 - val_loss: 0.9408\n",
      "Epoch 3/10 - loss: 0.9936 - val_loss: 0.9410\n",
      "Epoch 4/10 - loss: 0.9930 - val_loss: 0.9408\n",
      "Epoch 5/10 - loss: 0.9931 - val_loss: 0.9417\n",
      "Epoch 6/10 - loss: 0.9929 - val_loss: 0.9411\n",
      "Epoch 7/10 - loss: 0.9925 - val_loss: 0.9425\n",
      "Epoch 8/10 - loss: 0.9921 - val_loss: 0.9445\n",
      "Epoch 9/10 - loss: 0.9921 - val_loss: 0.9441\n",
      "Epoch 10/10 - loss: 0.9912 - val_loss: 0.9477\n"
     ]
    },
    {
     "data": {
      "text/plain": [
       "{'loss': 0.9407636368735939,\n",
       " 'weights': [array([[ 1.60778004, -0.1936145 , -0.29454556, -0.45112565, -0.47444101,\n",
       "           0.77214707,  0.47600668,  0.21283676,  0.04294866,  0.13763953],\n",
       "         [-0.29697148,  0.01521611,  0.37600036, -0.41027636,  0.18564975,\n",
       "          -0.85529113, -0.71866252,  0.15890121, -0.16143944,  0.40197195],\n",
       "         [-0.28289712,  0.84963857,  0.43711308,  0.29484963, -1.46406026,\n",
       "           0.41386292, -0.42876846, -0.09279583, -0.53585013, -0.17692852],\n",
       "         [ 0.27035086,  0.4085806 , -1.45028895, -0.26208971, -0.795216  ,\n",
       "          -0.92238356, -0.12545175,  0.45620058, -0.69141471, -0.29680869],\n",
       "         [-0.11023799, -1.21388177, -0.42901779, -0.75751524, -0.22264011,\n",
       "           0.69211257,  0.10717707,  1.0305213 , -0.4707175 ,  0.32490397]]),\n",
       "  array([[-0.19589708, -0.28856313],\n",
       "         [-0.12121712, -0.25970922],\n",
       "         [-0.76636447, -0.55757637],\n",
       "         [-0.23587985,  0.19053681],\n",
       "         [-0.13957243, -0.27099968],\n",
       "         [-0.48197903, -0.78205239],\n",
       "         [-0.37577327, -0.18930011],\n",
       "         [ 0.03214016, -0.11487822],\n",
       "         [ 0.29572899,  0.38312623],\n",
       "         [ 0.12922459,  0.22854947]])],\n",
       " 'epoch': 1}"
      ]
     },
     "execution_count": 18,
     "metadata": {},
     "output_type": "execute_result"
    }
   ],
   "source": [
    "import numpy as np\n",
    "import pickle\n",
    "\n",
    "# Dummy classes for testing\n",
    "from nnlib.layers.dense import Dense\n",
    "\n",
    "from nnlib.activation_functions.linear import Linear\n",
    "from nnlib.activation_functions.sigmoid import Sigmoid\n",
    "from nnlib.activation_functions.leaky_relu import LeakyReLu\n",
    "\n",
    "from nnlib.optimization_functions.sgd import StochastciGradientDescent\n",
    "\n",
    "from nnlib.models.sequential import SequentialModel\n",
    "\n",
    "from nnlib.loss_functions.mse import MeanSquaredError\n",
    "\n",
    "from nnlib.initialization_functions.he import He\n",
    "\n",
    "# Your SequentialModel class here...\n",
    "\n",
    "# Testing\n",
    "np.random.seed(0)  # For reproducibility\n",
    "\n",
    "# Create dummy data\n",
    "X = np.random.randn(1000, 5)\n",
    "y = np.random.randn(1000, 2)\n",
    "X_val = np.random.randn(150, 5)\n",
    "y_val = np.random.randn(150, 2)\n",
    "\n",
    "optimizer = StochastciGradientDescent(learning_rate=0.01)\n",
    "loss = MeanSquaredError()\n",
    "initializer = He()\n",
    "\n",
    "# Initialize model and components\n",
    "model = SequentialModel()\n",
    "model.add(Dense(n_units = 10, \n",
    "                input_dim = 5,\n",
    "                activation = LeakyReLu()               \n",
    "                ))\n",
    "model.add(Dense(n_units=2, \n",
    "                input_dim=10,\n",
    "                activation = LeakyReLu()\n",
    "                ))\n",
    "\n",
    "\n",
    "# Compile and fit the model\n",
    "model.compile(optimizer, loss, initializer, X)\n",
    "model.fit(X, y, epochs=10, batch_size=10, X_val=X_val, y_val=y_val, verbose=True)\n",
    "\n",
    "model.best_params\n",
    "# Ensure to check the predictions, loss values, and best parameters during and after training.\n"
   ]
  },
  {
   "cell_type": "code",
   "execution_count": 12,
   "metadata": {},
   "outputs": [
    {
     "name": "stdout",
     "output_type": "stream",
     "text": [
      "<class 'nnlib.models.sequential.SequentialModel'>\n"
     ]
    }
   ],
   "source": [
    "print(type(model))"
   ]
  },
  {
   "cell_type": "code",
   "execution_count": 13,
   "metadata": {},
   "outputs": [],
   "source": [
    "model.export_net(r'models/test_net.joblib')"
   ]
  },
  {
   "cell_type": "code",
   "execution_count": 14,
   "metadata": {},
   "outputs": [],
   "source": [
    "loaded_model = SequentialModel.import_net(r'models/test_net.joblib')\n"
   ]
  },
  {
   "cell_type": "code",
   "execution_count": 15,
   "metadata": {},
   "outputs": [
    {
     "data": {
      "text/plain": [
       "array([[-0.00725803, -0.016573  ],\n",
       "       [-0.00460925, -0.00460192],\n",
       "       [-0.00272083, -0.00243942],\n",
       "       ...,\n",
       "       [ 0.14331149, -0.00068177],\n",
       "       [-0.01772083, -0.01111778],\n",
       "       [-0.00160032, -0.00235906]])"
      ]
     },
     "execution_count": 15,
     "metadata": {},
     "output_type": "execute_result"
    }
   ],
   "source": [
    "loaded_model.predict(X)"
   ]
  }
 ],
 "metadata": {
  "kernelspec": {
   "display_name": "base",
   "language": "python",
   "name": "python3"
  },
  "language_info": {
   "codemirror_mode": {
    "name": "ipython",
    "version": 3
   },
   "file_extension": ".py",
   "mimetype": "text/x-python",
   "name": "python",
   "nbconvert_exporter": "python",
   "pygments_lexer": "ipython3",
   "version": "3.9.16"
  },
  "orig_nbformat": 4
 },
 "nbformat": 4,
 "nbformat_minor": 2
}
