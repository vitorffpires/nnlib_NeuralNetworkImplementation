{
 "cells": [
  {
   "cell_type": "code",
   "execution_count": 1,
   "metadata": {},
   "outputs": [
    {
     "ename": "ModuleNotFoundError",
     "evalue": "No module named 'nnlib.activation_functions.softmax'",
     "output_type": "error",
     "traceback": [
      "\u001b[1;31m---------------------------------------------------------------------------\u001b[0m",
      "\u001b[1;31mModuleNotFoundError\u001b[0m                       Traceback (most recent call last)",
      "\u001b[1;32mc:\\Users\\10087940\\Documents\\GitHub\\nnlib_NeuralNetworkImplementation\\compare_libs.ipynb Cell 1\u001b[0m line \u001b[0;36m1\n\u001b[0;32m      <a href='vscode-notebook-cell:/c%3A/Users/10087940/Documents/GitHub/nnlib_NeuralNetworkImplementation/compare_libs.ipynb#W0sZmlsZQ%3D%3D?line=7'>8</a>\u001b[0m \u001b[39mfrom\u001b[39;00m \u001b[39mnnlib\u001b[39;00m\u001b[39m.\u001b[39;00m\u001b[39mactivation_functions\u001b[39;00m\u001b[39m.\u001b[39;00m\u001b[39mleaky_relu\u001b[39;00m \u001b[39mimport\u001b[39;00m LeakyReLu\n\u001b[0;32m      <a href='vscode-notebook-cell:/c%3A/Users/10087940/Documents/GitHub/nnlib_NeuralNetworkImplementation/compare_libs.ipynb#W0sZmlsZQ%3D%3D?line=8'>9</a>\u001b[0m \u001b[39mfrom\u001b[39;00m \u001b[39mnnlib\u001b[39;00m\u001b[39m.\u001b[39;00m\u001b[39mactivation_functions\u001b[39;00m\u001b[39m.\u001b[39;00m\u001b[39msigmoid\u001b[39;00m \u001b[39mimport\u001b[39;00m Sigmoid \n\u001b[1;32m---> <a href='vscode-notebook-cell:/c%3A/Users/10087940/Documents/GitHub/nnlib_NeuralNetworkImplementation/compare_libs.ipynb#W0sZmlsZQ%3D%3D?line=9'>10</a>\u001b[0m \u001b[39mfrom\u001b[39;00m \u001b[39mnnlib\u001b[39;00m\u001b[39m.\u001b[39;00m\u001b[39mactivation_functions\u001b[39;00m\u001b[39m.\u001b[39;00m\u001b[39msoftmax\u001b[39;00m \u001b[39mimport\u001b[39;00m Softmax\n\u001b[0;32m     <a href='vscode-notebook-cell:/c%3A/Users/10087940/Documents/GitHub/nnlib_NeuralNetworkImplementation/compare_libs.ipynb#W0sZmlsZQ%3D%3D?line=10'>11</a>\u001b[0m \u001b[39mfrom\u001b[39;00m \u001b[39mnnlib\u001b[39;00m\u001b[39m.\u001b[39;00m\u001b[39mloss_functions\u001b[39;00m\u001b[39m.\u001b[39;00m\u001b[39mbce\u001b[39;00m \u001b[39mimport\u001b[39;00m BinaryCrossEntropy\n\u001b[0;32m     <a href='vscode-notebook-cell:/c%3A/Users/10087940/Documents/GitHub/nnlib_NeuralNetworkImplementation/compare_libs.ipynb#W0sZmlsZQ%3D%3D?line=11'>12</a>\u001b[0m \u001b[39mfrom\u001b[39;00m \u001b[39mnnlib\u001b[39;00m\u001b[39m.\u001b[39;00m\u001b[39mloss_functions\u001b[39;00m\u001b[39m.\u001b[39;00m\u001b[39mmse\u001b[39;00m \u001b[39mimport\u001b[39;00m MeanSquaredError\n",
      "\u001b[1;31mModuleNotFoundError\u001b[0m: No module named 'nnlib.activation_functions.softmax'"
     ]
    }
   ],
   "source": [
    "import numpy as np\n",
    "import pandas as pd\n",
    "import matplotlib.pyplot as plt\n",
    "\n",
    "from nnlib.models.sequential import SequentialModel\n",
    "from nnlib.layers.dense import Dense\n",
    "from nnlib.activation_functions.relu import ReLu\n",
    "from nnlib.activation_functions.leaky_relu import LeakyReLu\n",
    "from nnlib.activation_functions.sigmoid import Sigmoid \n",
    "from nnlib.activation_functions.softmax import Softmax\n",
    "from nnlib.loss_functions.bce import BinaryCrossEntropy\n",
    "from nnlib.loss_functions.mse import MeanSquaredError\n",
    "from nnlib.loss_functions.cce import CategoricalCrossEntropy\n",
    "from nnlib.optimization_functions.adam import AdaptiveMomentEstimation\n",
    "from nnlib.initialization_functions.he import He\n",
    "\n",
    "from sklearn.datasets import fetch_openml\n",
    "from sklearn.model_selection import train_test_split\n",
    "from sklearn.preprocessing import OneHotEncoder, StandardScaler\n",
    "\n",
    "import tensorflow as tf\n",
    "from tensorflow import keras"
   ]
  },
  {
   "cell_type": "code",
   "execution_count": null,
   "metadata": {},
   "outputs": [],
   "source": [
    "# Load MNIST data\n",
    "mnist = fetch_openml('mnist_784', version=1)\n",
    "X, y = mnist[\"data\"], mnist[\"target\"]\n"
   ]
  },
  {
   "cell_type": "code",
   "execution_count": null,
   "metadata": {},
   "outputs": [],
   "source": [
    "\n",
    "# Convert labels to integers\n",
    "X = np.array(X).astype(np.float32)\n",
    "X = X/255.0\n",
    "y = np.array(y).astype(np.uint8).reshape(-1, 1)\n",
    "# One-hot encode the labels\n",
    "encoder = OneHotEncoder(sparse=False)\n",
    "y_one_hot = encoder.fit_transform(y)\n",
    "\n",
    "# Split the data into training (60%) and temporary (40%) sets\n",
    "X_train, X_temp, y_train, y_temp = train_test_split(X, y_one_hot, test_size=0.4, random_state=42)\n",
    "\n",
    "# Split the temporary set equally into testing and validation sets\n",
    "X_test, X_val, y_test, y_val = train_test_split(X_temp, y_temp, test_size=0.5, random_state=42)"
   ]
  },
  {
   "cell_type": "code",
   "execution_count": null,
   "metadata": {},
   "outputs": [],
   "source": [
    "\n",
    "model = SequentialModel()\n",
    "\n",
    "model.add(Dense(n_units= 128, input_dim=784, activation=ReLu()))\n",
    "model.add(Dense(n_units= 128, input_dim=128, activation=ReLu()))\n",
    "model.add(Dense(n_units = 10, input_dim = 128, activation=Softmax()))\n",
    "\n",
    "model.compile(optimizer=AdaptiveMomentEstimation(0.0001, dropout=0.2),\n",
    "              loss=CategoricalCrossEntropy(),\n",
    "              initializer=He())\n",
    "\n",
    "model.fit(X_train, y_train, epochs=20, batch_size=512, X_val=X_test, y_val=y_test, verbose=True, plot_histograms=False)"
   ]
  },
  {
   "cell_type": "code",
   "execution_count": null,
   "metadata": {},
   "outputs": [],
   "source": [
    "\n",
    "model = tf.keras.models.Sequential([\n",
    "  tf.keras.layers.InputLayer(input_shape=(784,)),\n",
    "  tf.keras.layers.Dense(128, activation='relu'),\n",
    "  tf.keras.layers.Dropout(0.2),\n",
    "  tf.keras.layers.Dense(10, activation='softmax')\n",
    "])\n",
    "\n",
    "model.compile(optimizer='adam',\n",
    "              loss='categorical_crossentropy',\n",
    "              metrics=['accuracy'])\n",
    "\n",
    "history = model.fit(X_train, y_train, epochs=20, batch_size=512, validation_data=(X_test, y_test), verbose=1)\n",
    "model.evaluate(X_test, y_test)"
   ]
  },
  {
   "cell_type": "code",
   "execution_count": null,
   "metadata": {},
   "outputs": [],
   "source": [
    "pd.DataFrame(history.history).plot(figsize=(10,6))\n",
    "plt.grid(True)\n",
    "plt.show()"
   ]
  },
  {
   "cell_type": "code",
   "execution_count": null,
   "metadata": {},
   "outputs": [],
   "source": []
  },
  {
   "cell_type": "code",
   "execution_count": null,
   "metadata": {},
   "outputs": [],
   "source": [
    "dropout = .2\n",
    "weights = np.random.randn(10, 10)\n",
    "\n",
    "qty_dropouts = int(len(weights) * dropout)\n",
    "idx_dropouts = np.random.randint(0, len(weights), qty_dropouts)"
   ]
  },
  {
   "cell_type": "code",
   "execution_count": null,
   "metadata": {},
   "outputs": [],
   "source": [
    "1 in idx_dropouts"
   ]
  }
 ],
 "metadata": {
  "kernelspec": {
   "display_name": "ivc",
   "language": "python",
   "name": "python3"
  },
  "language_info": {
   "codemirror_mode": {
    "name": "ipython",
    "version": 3
   },
   "file_extension": ".py",
   "mimetype": "text/x-python",
   "name": "python",
   "nbconvert_exporter": "python",
   "pygments_lexer": "ipython3",
   "version": "3.10.10"
  }
 },
 "nbformat": 4,
 "nbformat_minor": 2
}
